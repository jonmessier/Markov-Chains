{
 "cells": [
  {
   "cell_type": "markdown",
   "id": "96c205ec-f547-4895-9b3e-ee282fb0265e",
   "metadata": {},
   "source": [
    "# Introduction to Markov Chains\n",
    "Jon Messier \\\n",
    "Last update: 12 August 2023\\\n",
    "\n",
    "---\n",
    "<u>Resources:</u>\n",
    "[Markov Chain Applications in Data Science](https://www.mysense.ai/2021/07/14/markov-chain-applications-in-data-science/) - Nice descriptive overview.\n",
    "\n",
    "[wiki](https://en.wikipedia.org/wiki/Markov_chain) \n",
    "\n",
    "[MIT OpenCourseware - \"Finite-state Markov Chains; The Matrix Approach\" by Shan-Yuan Ho](https://ocw.mit.edu/courses/6-262-discrete-stochastic-processes-spring-2011/resources/lecture-7-finite-state-markov-chains-the-matrix-approach/) - Introduction to probability analysis for Markov Chains\n",
    "\n",
    "[MIT OpenCourseware - \"Markov Eigenvalues and Eigenvectors\" by Prof. Robert Gallager](https://ocw.mit.edu/courses/6-262-discrete-stochastic-processes-spring-2011/resources/lecture-8-markov-eigenvalues-and-eigenvectors/) - Exploration of steady states\n",
    "\n",
    "----\n",
    "## Introduction\n",
    "The defining characteristic of a Markov chain is that no matter how the process arrived at its present state, the possible future states are fixed. In other words, the probability of transitioning to any particular state is dependent solely on the current state and time elapsed. The state space, or set of all possible states, can be anything: letters, numbers, weather conditions, health conditions or stock performances.\n",
    "\n",
    "A Markov chain is a stochastic model describing a sequence of states and the probability of transitioning from one state to another.   Markov chains have no history and only rely on the current state and the probability to move to another state.  Markov chains can be discrete in space or in time over continuous spaces.  \n",
    " - Discrete time & Discrete Space - Markov Chain\n",
    " - Discrete time & Continous space - [Harris Chain](https://en.wikipedia.org/wiki/Harris_chain)\n",
    " - Continous time & Discrete Sapce - Markov jump process\n",
    " - Continous time & Continous Space - [Weiner process](https://en.wikipedia.org/wiki/Wiener_process)\n",
    "\n",
    "For this discussion we are are going to be ignoring time and dealing only with states.  This is a Discrete Time/Space version.  As an example, consider the price of an asset that only changes once per day.  The price (state) is discrete each day.  \n",
    "\n",
    "---\n",
    "## Example: Epedmiological Model (text and graphic from Mysense.ai)\n",
    "The Markov Chains are usually called in the epidemiological and in the chemistry literature “compartmental models”. The most famous is the SIR model for infectious diseases.\n",
    "\n",
    "The main idea is that individuals can be classified into three states: Susceptible (people that can get the disease), Infected (people that have the disease and are contagious), and Removed.\n",
    "\n",
    "The main idea is that almost all individuals start Susceptible they can catch the disease with a handful of Infected.\n",
    "\n",
    "Considering the discrete-time, such as days, some infected individuals will either get better or die, hence becoming Removed, and some Susceptible will become Infected.\n",
    "\n",
    "The interesting part is how interactions between the compartments give rise to different models. Also, there are a lot of infectious disease models that use this idea and add additional compartments. For example, you can divide the infected into symptomatic and asymptomatic, you can divide the susceptible into vaccinated and unvaccinated, removed can be divided into recovered or death. A more complete description of these models can be found in Mathematical Epidemiology by Brauer.\n",
    "\n",
    "[png]()"
   ]
  },
  {
   "cell_type": "markdown",
   "id": "775089ab-d3e6-4cf9-9492-8d84fc338b4f",
   "metadata": {},
   "source": [
    "$P=1$"
   ]
  },
  {
   "cell_type": "markdown",
   "id": "0a9ae547-4b6e-423f-8bdd-c0065c450d82",
   "metadata": {},
   "source": [
    "## Basic Math functions and definitions\n",
    "**Finite state space**\n",
    "\n",
    "If the state space is finite, the transition probability distribution can be represented by a matrix, called the transition matrix, with the (i, j)th element of $P$ equal to\n",
    "    $$p_(ij)=P(X_(n + 1) = j | X_n=i)$$\n",
    "\n",
    "Since each row of $P$ sums to one and all elements are non-negative, $P$ is a right stochastic matrix. \n",
    "\n",
    "**Stationary distribution relation to eigenvectors and simplices** \\\n",
    "A stationary distribution $\\pi$ is a (row) vector, whose entries are non-negative and sum to 1, is unchanged by the operation of transition matrix $P$ on it and so is defined by:\n",
    "$$\\pi P=\\pi$$\n",
    "By comparing this definition with that of an eigenvector we see that the two concepts are related and that\n",
    "$$\\pi = \\frac{e}{\\sum_{i}{e_i}$$\n",
    "is a normalized $\\sum_{i}\\pi_{i}=1$ multiple of a left eigenvector $e$ of the transition matrix $P$ with an eigenvalue of 1. If there is more than one unit eigenvector then a weighted sum of the corresponding stationary states is also a stationary state. But for a Markov chain one is usually more interested in a stationary state that is the limit of the sequence of distributions for some initial distribution.\n",
    "\n",
    "The values of a stationary distribution $\\pi_i$ are associated with the state space of $P$ and its eigenvectors have their relative proportions preserved. Since the components of $\\pi$ are positive and the constraint that their sum is unity can be rewritten as $\\sum _{i}1\\cdot\\pi_{i}=1$ we see that the dot product of $\\pi$ with a vector whose components are all 1 is unity and that $\\pi$ lies on a simplex. "
   ]
  },
  {
   "cell_type": "code",
   "execution_count": 12,
   "id": "fe8572e2-2c54-4181-8a4a-882cb16228b4",
   "metadata": {},
   "outputs": [],
   "source": [
    "import random\n",
    "import numpy as np\n",
    "import matplotlib.pyplot as plt"
   ]
  },
  {
   "cell_type": "markdown",
   "id": "2184c54c-11a2-4a31-a4ea-45d5176fe77a",
   "metadata": {},
   "source": [
    "# Custom functions"
   ]
  },
  {
   "cell_type": "markdown",
   "id": "b1472921-f45a-4190-9673-2ef4cdc9f310",
   "metadata": {},
   "source": [
    "## `sim_markov`\n",
    "Use to run the simulation on a states given a transition matrix, initial states, and the number of steps.\n",
    "\n",
    "**Inputs**\n",
    "- `states`  - List of states\n",
    "- `t_matrix` - List of lists describing state probabliities\n",
    "- `initial_state` - str\n",
    "- `num_steps` - int\n",
    "\n",
    "**Return**\n",
    "- `chain` - Chain of states"
   ]
  },
  {
   "cell_type": "code",
   "execution_count": 2,
   "id": "7b7164c5-604c-4d0e-b939-79c6555acd65",
   "metadata": {},
   "outputs": [],
   "source": [
    "def sim_markov(states, t_matrix, initial_state, num_steps):\n",
    "    current_state = initial_state\n",
    "    chain = [current_state]\n",
    "    \n",
    "    print(f'Inputs: states:{states} \\n t_matrix:{t_matrix} \\n Initial state: {initial_state} \\n # steps: {num_steps}')\n",
    "    for _ in range(num_steps):\n",
    "        next_state = random.choices(population = states, \n",
    "                                    weights=[t_matrix[current_state][next_state] for next_state in states]\n",
    "                                   )[0]\n",
    "        chain.append(next_state)\n",
    "        current_state=next_state\n",
    "\n",
    "    return chain"
   ]
  },
  {
   "cell_type": "markdown",
   "id": "158185a0-d4cf-4fb1-94b5-d63364852a06",
   "metadata": {},
   "source": [
    "## `get_stationaries (t_matrix)`\n",
    "Used to calculate the stationary states of the transition matrix.  Essential the real eigienvalues\n",
    "\n",
    "**Inputs**\n",
    "- `t_matrix` - List of lists describing state probabliities\n",
    "\n",
    "**Return**\n",
    "-`stationaries` - Eigien value calc for T-matrix"
   ]
  },
  {
   "cell_type": "code",
   "execution_count": 3,
   "id": "a29cc5a9-3810-47d2-8d9d-c4e1f814ead6",
   "metadata": {},
   "outputs": [],
   "source": [
    "def get_stationaries(t_matrix):\n",
    "    #convert the t_matrix (list of lists) to array\n",
    "    # Extract keys (rows) and values (lists) from the dictionary\n",
    "    states = list(t_matrix.keys())\n",
    "    matrix = [np.array(list(t_matrix[key].values())) for key in states]\n",
    "\n",
    "    #note: the matrix is row stochastic.\n",
    "    #A markov chain transition will correspond to left multiplying by a row vector.\n",
    "    Q = np.array(matrix)\n",
    "\n",
    "    #We have to transpose so that Markov transitions correspond to right multiplying by a column vector.  np.linalg.eig finds right eigenvectors.\n",
    "    evals, evecs = np.linalg.eig(Q.T)\n",
    "    evec1 = evecs[:,np.isclose(evals, 1)]\n",
    "\n",
    "    #Since np.isclose will return an array, we've indexed with an array\n",
    "    #so we still have our 2nd axis.  Get rid of it, since it's only size 1.\n",
    "    evec1 = evec1[:,0]\n",
    "\n",
    "    stationaries = evec1 / evec1.sum()\n",
    "\n",
    "    #eigs finds complex eigenvalues and eigenvectors, so you'll want the real part.\n",
    "    stationaries = stationaries.real\n",
    "    return stationaries"
   ]
  },
  {
   "cell_type": "markdown",
   "id": "774a2450-a4d3-4554-8945-a37fb64c5ed2",
   "metadata": {},
   "source": [
    "# Example 1 - Drunken walk\n",
    "- 2 states - left foot | right foot\n",
    "- 50% probablity of taking a L- or R- step each time"
   ]
  },
  {
   "cell_type": "code",
   "execution_count": 4,
   "id": "a7596479-c1e5-4c97-b100-95014d57920b",
   "metadata": {},
   "outputs": [],
   "source": [
    "states = ['L','R']\n",
    "t_matrix = {'L':{'L':0.5, 'R':0.5},\n",
    "            'R':{'L':0.5, 'R':0.5}\n",
    "           }"
   ]
  },
  {
   "cell_type": "code",
   "execution_count": 5,
   "id": "f82f7edc-02ec-43f7-8548-27c1f00f8182",
   "metadata": {},
   "outputs": [
    {
     "name": "stdout",
     "output_type": "stream",
     "text": [
      "Inputs: states:['L', 'R'] \n",
      " t_matrix:{'L': {'L': 0.5, 'R': 0.5}, 'R': {'L': 0.5, 'R': 0.5}} \n",
      " Initial state: L \n",
      " # steps: 10\n",
      "['L', 'L', 'L', 'R', 'L', 'L', 'L', 'R', 'R', 'R', 'R']\n"
     ]
    }
   ],
   "source": [
    "markov_chain = sim_markov(states, t_matrix, 'L', 10)\n",
    "print(markov_chain)"
   ]
  },
  {
   "cell_type": "code",
   "execution_count": 6,
   "id": "9b791b08-5a8d-4071-affe-c32357299ac5",
   "metadata": {},
   "outputs": [
    {
     "name": "stdout",
     "output_type": "stream",
     "text": [
      "[0.5 0.5]\n"
     ]
    }
   ],
   "source": [
    "print(get_stationaries(t_matrix))"
   ]
  },
  {
   "cell_type": "markdown",
   "id": "71d1e04d-fbcd-4047-b8ae-3e4ca5e7b868",
   "metadata": {},
   "source": [
    "# Example 2\n",
    "Let's create a hypothetical 4 state system.  In each state, there is a 50% chance of returning to the same state; a 25% chance of going to the the state before or after (i.e. S3 --> 50% S4 & 50% S2); and a 0% chance of going to a state 2-states removed (i.e. S1 --> S3 = 0%). "
   ]
  },
  {
   "cell_type": "code",
   "execution_count": 7,
   "id": "f34be6ec-3d30-43fb-b1ed-536804ffcd86",
   "metadata": {},
   "outputs": [],
   "source": [
    "# Define a space with 4 states.  S1-S4\n",
    "states = ['S1', 'S2', 'S3', 'S4']\n",
    "initial_state= 'S1'\n",
    "\n",
    "#tranistioning between these states carries the following probablities.  \n",
    "#The sum of tranistioning in each states sums to 100%\n",
    "t_matrix = {'S1':{'S1':0.5, 'S2':0.25, 'S3':0, 'S4':0.25},\n",
    "            'S2':{'S1':0.25, 'S2':0.5, 'S3':0.25, 'S4':0},\n",
    "            'S3':{'S1':0, 'S2':0.25, 'S3':0.5, 'S4':0.25},\n",
    "            'S4':{'S1':0.25, 'S2':0, 'S3':0.25, 'S4':0.5}\n",
    "           }"
   ]
  },
  {
   "cell_type": "code",
   "execution_count": 8,
   "id": "0842523c-d7c7-4a62-ad34-c1d44e687f67",
   "metadata": {},
   "outputs": [
    {
     "name": "stdout",
     "output_type": "stream",
     "text": [
      "Inputs: states:['S1', 'S2', 'S3', 'S4'] \n",
      " t_matrix:{'S1': {'S1': 0.5, 'S2': 0.25, 'S3': 0, 'S4': 0.25}, 'S2': {'S1': 0.25, 'S2': 0.5, 'S3': 0.25, 'S4': 0}, 'S3': {'S1': 0, 'S2': 0.25, 'S3': 0.5, 'S4': 0.25}, 'S4': {'S1': 0.25, 'S2': 0, 'S3': 0.25, 'S4': 0.5}} \n",
      " Initial state: S1 \n",
      " # steps: 1000\n",
      "['S1', 'S1', 'S1', 'S1', 'S2', 'S2', 'S2', 'S2', 'S1', 'S1', 'S1', 'S1', 'S1', 'S2', 'S2', 'S2', 'S2', 'S3', 'S2', 'S2', 'S2', 'S3', 'S4', 'S4', 'S4', 'S4', 'S3', 'S3', 'S3', 'S3', 'S3', 'S4', 'S4', 'S1', 'S2', 'S1', 'S2', 'S2', 'S1', 'S2', 'S3', 'S3', 'S3', 'S4', 'S3', 'S3', 'S3', 'S3', 'S4', 'S4', 'S3', 'S4', 'S1', 'S1', 'S1', 'S1', 'S1', 'S2', 'S2', 'S2', 'S1', 'S1', 'S4', 'S4', 'S1', 'S1', 'S1', 'S2', 'S1', 'S2', 'S2', 'S2', 'S2', 'S2', 'S3', 'S3', 'S2', 'S2', 'S2', 'S2', 'S2', 'S3', 'S4', 'S3', 'S2', 'S2', 'S2', 'S2', 'S2', 'S2', 'S2', 'S3', 'S3', 'S3', 'S2', 'S2', 'S1', 'S4', 'S1', 'S1', 'S1', 'S1', 'S4', 'S4', 'S4', 'S4', 'S4', 'S3', 'S3', 'S2', 'S1', 'S4', 'S4', 'S4', 'S4', 'S4', 'S1', 'S1', 'S1', 'S2', 'S2', 'S3', 'S2', 'S3', 'S3', 'S2', 'S2', 'S2', 'S2', 'S1', 'S4', 'S4', 'S1', 'S1', 'S4', 'S3', 'S2', 'S1', 'S1', 'S1', 'S1', 'S4', 'S3', 'S3', 'S4', 'S3', 'S4', 'S4', 'S4', 'S1', 'S2', 'S2', 'S1', 'S2', 'S2', 'S1', 'S4', 'S1', 'S4', 'S4', 'S4', 'S3', 'S3', 'S2', 'S1', 'S1', 'S4', 'S4', 'S4', 'S1', 'S4', 'S3', 'S3', 'S3', 'S2', 'S2', 'S3', 'S2', 'S1', 'S1', 'S2', 'S3', 'S4', 'S3', 'S3', 'S2', 'S2', 'S1', 'S1', 'S4', 'S4', 'S4', 'S4', 'S4', 'S4', 'S4', 'S4', 'S3', 'S2', 'S2', 'S3', 'S3', 'S2', 'S3', 'S3', 'S3', 'S4', 'S4', 'S1', 'S1', 'S2', 'S3', 'S3', 'S2', 'S1', 'S4', 'S4', 'S4', 'S1', 'S1', 'S1', 'S1', 'S1', 'S2', 'S3', 'S2', 'S2', 'S2', 'S3', 'S3', 'S3', 'S2', 'S2', 'S3', 'S3', 'S3', 'S4', 'S1', 'S1', 'S1', 'S4', 'S4', 'S4', 'S4', 'S4', 'S4', 'S3', 'S3', 'S4', 'S1', 'S2', 'S1', 'S4', 'S3', 'S3', 'S3', 'S2', 'S1', 'S2', 'S1', 'S1', 'S4', 'S4', 'S1', 'S2', 'S1', 'S1', 'S4', 'S4', 'S4', 'S1', 'S1', 'S4', 'S4', 'S3', 'S2', 'S2', 'S2', 'S1', 'S2', 'S2', 'S1', 'S4', 'S4', 'S1', 'S1', 'S1', 'S1', 'S1', 'S4', 'S3', 'S4', 'S4', 'S4', 'S1', 'S2', 'S1', 'S1', 'S1', 'S4', 'S1', 'S1', 'S4', 'S4', 'S1', 'S2', 'S3', 'S4', 'S3', 'S3', 'S2', 'S2', 'S3', 'S3', 'S3', 'S3', 'S3', 'S4', 'S1', 'S2', 'S2', 'S3', 'S2', 'S3', 'S3', 'S3', 'S3', 'S3', 'S3', 'S3', 'S3', 'S4', 'S3', 'S2', 'S1', 'S1', 'S2', 'S1', 'S4', 'S4', 'S4', 'S1', 'S2', 'S2', 'S2', 'S2', 'S3', 'S3', 'S3', 'S3', 'S3', 'S3', 'S2', 'S2', 'S2', 'S1', 'S4', 'S4', 'S4', 'S4', 'S1', 'S1', 'S1', 'S1', 'S1', 'S2', 'S2', 'S2', 'S3', 'S3', 'S3', 'S2', 'S1', 'S1', 'S1', 'S1', 'S1', 'S1', 'S4', 'S3', 'S2', 'S1', 'S1', 'S2', 'S2', 'S2', 'S2', 'S1', 'S2', 'S3', 'S2', 'S2', 'S1', 'S2', 'S2', 'S2', 'S1', 'S1', 'S2', 'S2', 'S2', 'S3', 'S3', 'S3', 'S3', 'S3', 'S2', 'S2', 'S1', 'S4', 'S3', 'S3', 'S3', 'S4', 'S1', 'S4', 'S4', 'S3', 'S2', 'S2', 'S3', 'S3', 'S3', 'S2', 'S3', 'S3', 'S3', 'S3', 'S4', 'S4', 'S3', 'S3', 'S4', 'S3', 'S4', 'S1', 'S1', 'S1', 'S2', 'S1', 'S4', 'S1', 'S1', 'S1', 'S1', 'S2', 'S2', 'S3', 'S3', 'S2', 'S2', 'S3', 'S4', 'S4', 'S4', 'S4', 'S4', 'S3', 'S4', 'S3', 'S3', 'S3', 'S4', 'S3', 'S2', 'S3', 'S3', 'S4', 'S4', 'S3', 'S3', 'S2', 'S2', 'S2', 'S2', 'S3', 'S3', 'S4', 'S1', 'S1', 'S1', 'S1', 'S2', 'S3', 'S3', 'S4', 'S4', 'S4', 'S4', 'S4', 'S1', 'S1', 'S1', 'S2', 'S3', 'S2', 'S2', 'S1', 'S2', 'S3', 'S3', 'S3', 'S4', 'S1', 'S2', 'S2', 'S2', 'S1', 'S1', 'S1', 'S1', 'S1', 'S1', 'S1', 'S1', 'S2', 'S2', 'S2', 'S3', 'S3', 'S2', 'S1', 'S1', 'S1', 'S1', 'S1', 'S1', 'S1', 'S2', 'S2', 'S1', 'S1', 'S4', 'S4', 'S4', 'S4', 'S4', 'S1', 'S4', 'S4', 'S3', 'S2', 'S2', 'S2', 'S3', 'S3', 'S2', 'S3', 'S3', 'S3', 'S3', 'S3', 'S3', 'S3', 'S3', 'S3', 'S2', 'S2', 'S2', 'S2', 'S1', 'S1', 'S1', 'S1', 'S1', 'S1', 'S4', 'S3', 'S4', 'S4', 'S3', 'S3', 'S4', 'S1', 'S1', 'S1', 'S2', 'S3', 'S2', 'S3', 'S3', 'S3', 'S2', 'S1', 'S4', 'S3', 'S3', 'S3', 'S3', 'S3', 'S2', 'S3', 'S3', 'S3', 'S4', 'S4', 'S3', 'S3', 'S3', 'S3', 'S2', 'S3', 'S3', 'S3', 'S2', 'S3', 'S4', 'S3', 'S2', 'S2', 'S1', 'S1', 'S2', 'S3', 'S2', 'S3', 'S2', 'S2', 'S1', 'S2', 'S1', 'S4', 'S1', 'S4', 'S4', 'S1', 'S2', 'S1', 'S2', 'S3', 'S4', 'S4', 'S4', 'S3', 'S3', 'S2', 'S3', 'S3', 'S2', 'S2', 'S1', 'S1', 'S4', 'S3', 'S3', 'S3', 'S2', 'S2', 'S2', 'S1', 'S1', 'S4', 'S1', 'S2', 'S2', 'S2', 'S1', 'S4', 'S3', 'S2', 'S3', 'S4', 'S4', 'S4', 'S4', 'S1', 'S4', 'S3', 'S3', 'S3', 'S3', 'S2', 'S2', 'S2', 'S2', 'S1', 'S1', 'S2', 'S2', 'S2', 'S2', 'S1', 'S4', 'S4', 'S3', 'S2', 'S3', 'S4', 'S4', 'S3', 'S4', 'S4', 'S3', 'S2', 'S3', 'S2', 'S2', 'S3', 'S2', 'S1', 'S4', 'S1', 'S1', 'S1', 'S4', 'S1', 'S2', 'S1', 'S1', 'S1', 'S2', 'S3', 'S3', 'S3', 'S3', 'S4', 'S4', 'S4', 'S1', 'S2', 'S2', 'S2', 'S2', 'S1', 'S1', 'S2', 'S1', 'S2', 'S2', 'S2', 'S2', 'S2', 'S2', 'S2', 'S2', 'S3', 'S2', 'S2', 'S2', 'S2', 'S2', 'S1', 'S4', 'S4', 'S4', 'S1', 'S1', 'S1', 'S1', 'S4', 'S1', 'S2', 'S2', 'S2', 'S3', 'S2', 'S1', 'S2', 'S3', 'S4', 'S4', 'S1', 'S2', 'S1', 'S4', 'S3', 'S2', 'S3', 'S3', 'S4', 'S4', 'S4', 'S1', 'S2', 'S2', 'S1', 'S2', 'S3', 'S3', 'S3', 'S3', 'S3', 'S3', 'S3', 'S4', 'S4', 'S4', 'S4', 'S4', 'S4', 'S1', 'S4', 'S1', 'S4', 'S4', 'S1', 'S4', 'S4', 'S1', 'S4', 'S4', 'S4', 'S4', 'S4', 'S1', 'S1', 'S2', 'S3', 'S2', 'S3', 'S2', 'S3', 'S3', 'S3', 'S4', 'S3', 'S3', 'S3', 'S4', 'S1', 'S1', 'S1', 'S4', 'S3', 'S4', 'S4', 'S3', 'S4', 'S3', 'S3', 'S3', 'S4', 'S1', 'S1', 'S4', 'S4', 'S3', 'S2', 'S2', 'S2', 'S3', 'S3', 'S4', 'S1', 'S2', 'S3', 'S3', 'S3', 'S4', 'S4', 'S1', 'S1', 'S1', 'S1', 'S4', 'S4', 'S3', 'S4', 'S3', 'S2', 'S1', 'S1', 'S1', 'S4', 'S1', 'S1', 'S1', 'S1', 'S2', 'S3', 'S3', 'S2', 'S2', 'S3', 'S4', 'S4', 'S3', 'S4', 'S4', 'S4', 'S4', 'S3', 'S3', 'S3', 'S2', 'S3', 'S3', 'S4', 'S4', 'S1', 'S2', 'S1', 'S1', 'S1', 'S1', 'S1', 'S2', 'S1', 'S2', 'S3', 'S2', 'S2', 'S2', 'S1', 'S1', 'S1', 'S4', 'S4', 'S3', 'S2', 'S2', 'S2', 'S2', 'S2', 'S3', 'S2', 'S1', 'S1', 'S2', 'S1', 'S4', 'S1', 'S2', 'S2', 'S2', 'S2', 'S2', 'S2', 'S3', 'S3', 'S3', 'S3', 'S4', 'S1', 'S1', 'S4', 'S4', 'S4', 'S4', 'S1', 'S1', 'S4', 'S4', 'S4', 'S1', 'S1', 'S1', 'S1', 'S1', 'S1', 'S4', 'S4', 'S4', 'S1', 'S2', 'S1', 'S2', 'S3', 'S3', 'S4', 'S3', 'S3', 'S4', 'S4', 'S4', 'S1', 'S2', 'S1', 'S1', 'S4', 'S4', 'S4', 'S1', 'S4', 'S4', 'S3', 'S2', 'S3', 'S4', 'S4', 'S4', 'S1', 'S1', 'S1', 'S4', 'S4', 'S3', 'S4', 'S1', 'S1', 'S1', 'S1', 'S4', 'S4', 'S3', 'S4', 'S4', 'S1', 'S1', 'S2', 'S1']\n"
     ]
    }
   ],
   "source": [
    "markov_chain = sim_markov(states, t_matrix, initial_state, 1000)\n",
    "print(markov_chain)"
   ]
  },
  {
   "cell_type": "code",
   "execution_count": 9,
   "id": "3f12c924-2cb2-4ee1-8cb1-81b6222216ca",
   "metadata": {},
   "outputs": [
    {
     "name": "stdout",
     "output_type": "stream",
     "text": [
      "[0.25 0.25 0.25 0.25]\n"
     ]
    }
   ],
   "source": [
    "print(get_stationaries(t_matrix))"
   ]
  },
  {
   "cell_type": "markdown",
   "id": "de561b20-4605-432a-971a-957f0bb9e82d",
   "metadata": {},
   "source": [
    "# Example 3: Gambler's ruin"
   ]
  },
  {
   "cell_type": "code",
   "execution_count": 10,
   "id": "f2dbe6e6-730c-4e70-977a-018d0eb82b71",
   "metadata": {},
   "outputs": [],
   "source": [
    "def gambler_ruin(target, initial_money, win_prob):\n",
    "    # Ensure valid probabilities\n",
    "    assert 0 <= win_prob <= 1, \"Win probability must be between 0 and 1\"\n",
    "\n",
    "    # Initialize state space (money values)\n",
    "    states = np.arange(0, target + 1)\n",
    "\n",
    "    # Initialize transition matrix\n",
    "    P = np.zeros((target + 1, target + 1))\n",
    "\n",
    "    for state in states:\n",
    "        if state == target:\n",
    "            P[state, state] = 1  # Winning state remains unchanged\n",
    "        else:\n",
    "            P[state, state + 1] = win_prob  # Winning transition\n",
    "            P[state, state - 1] = 1 - win_prob  # Losing transition\n",
    "\n",
    "    # Initialize probability vector (starting from initial_money)\n",
    "    prob_vector = np.zeros(target + 1)\n",
    "    prob_vector[initial_money] = 1\n",
    "\n",
    "    # Simulate the Markov chain\n",
    "    num_steps = 0\n",
    "    while prob_vector[0] == 0 and prob_vector[target] == 0:\n",
    "        prob_vector = np.dot(prob_vector, P)\n",
    "        num_steps += 1\n",
    "\n",
    "    return prob_vector, num_steps"
   ]
  },
  {
   "cell_type": "code",
   "execution_count": 14,
   "id": "ed33b2a4-b1ba-4815-b39f-13caf5e22bd7",
   "metadata": {},
   "outputs": [
    {
     "name": "stdout",
     "output_type": "stream",
     "text": [
      "Probability of reaching $0: 1.1201784351272439e-14\n",
      "Probability of reaching $100: 6.150594332289125e-17\n",
      "Number of steps taken: 50\n"
     ]
    },
    {
     "data": {
      "image/png": "[encoded data removed]",
      "text/plain": [
       "<Figure size 640x480 with 1 Axes>"
      ]
     },
     "metadata": {},
     "output_type": "display_data"
    }
   ],
   "source": [
    "# Parameters\n",
    "target_amount = 100  # The target amount to reach\n",
    "initial_money = 50  # The initial amount of money the gambler has\n",
    "win_probability = 0.474  # The probability of winning in each round\n",
    "\n",
    "# Quick google search gives you the best odds in vagas as\n",
    "#Blackjack 42.2% \n",
    "# roulette - Black/Red 47.4%\n",
    "\n",
    "\n",
    "# Simulate the Gambler's Ruin problem\n",
    "prob_vector, num_steps = gambler_ruin(target_amount, initial_money, win_probability)\n",
    "\n",
    "# Print the results\n",
    "print(\"Probability of reaching $0:\", prob_vector[0])\n",
    "print(f\"Probability of reaching ${target_amount}:\", prob_vector[target_amount])\n",
    "print(\"Number of steps taken:\", num_steps)\n",
    "\n",
    "# Plot the probabilities\n",
    "plt.plot(np.arange(target_amount + 1), prob_vector, marker='o')\n",
    "plt.xlabel('Amount of Money')\n",
    "plt.ylabel('Probability')\n",
    "plt.title('Gambler\\'s Ruin Problem')\n",
    "plt.grid(True)\n",
    "plt.show()"
   ]
  },
  {
   "cell_type": "markdown",
   "id": "27b1c9b5-9a00-4a01-bd3b-aff65569753b",
   "metadata": {},
   "source": [
    "# Example 4: Text prediction"
   ]
  },
  {
   "cell_type": "code",
   "execution_count": null,
   "id": "a6017d9a-6448-4d27-9797-2c50b28d5ad5",
   "metadata": {},
   "outputs": [],
   "source": []
  }
 ],
 "metadata": {
  "kernelspec": {
   "display_name": "Python 3 (ipykernel)",
   "language": "python",
   "name": "python3"
  },
  "language_info": {
   "codemirror_mode": {
    "name": "ipython",
    "version": 3
   },
   "file_extension": ".py",
   "mimetype": "text/x-python",
   "name": "python",
   "nbconvert_exporter": "python",
   "pygments_lexer": "ipython3",
   "version": "3.9.15"
  }
 },
 "nbformat": 4,
 "nbformat_minor": 5
}
